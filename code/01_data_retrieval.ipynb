{
 "cells": [
  {
   "cell_type": "markdown",
   "metadata": {},
   "source": [
    "# data retrieval"
   ]
  },
  {
   "cell_type": "code",
   "execution_count": null,
   "metadata": {},
   "outputs": [],
   "source": [
    "# importing\n",
    "import pandas as pd\n",
    "import numpy as np\n",
    "import glob, os"
   ]
  },
  {
   "cell_type": "code",
   "execution_count": null,
   "metadata": {},
   "outputs": [],
   "source": [
    "# download data from AWS\n",
    "def download_multi_dates (from_date, until_date):\n",
    "    \"\"\"Receiving the data from the AWS Bucket from Deutsche Börse\n",
    "\n",
    "    Parameters\n",
    "    ----------\n",
    "    from_date : str\n",
    "        the date it should start\n",
    "    until_date: str\n",
    "        the date until you want the data\n",
    "    \"\"\"  \n",
    "    # create list for required dates\n",
    "    dates = list(pd.date_range(from_date, until_date, freq=\"D\").strftime(\"%Y-%m-%d\"))\n",
    "    \n",
    "    # download\n",
    "    number_days = len (dates)\n",
    "    i = 0\n",
    "    while i < number_days:\n",
    "        date = dates[i]\n",
    "        ! aws s3 ls s3://deutsche-boerse-xetra-pds/{date}/ --no-sign-request\n",
    "        ! mkdir \"../data/deutsche-boerse-xetra-pds/{date}\"\n",
    "        ! aws s3 sync s3://deutsche-boerse-xetra-pds/{date} \"../data/deutsche-boerse-xetra-pds/{date}\" --no-sign-request\n",
    "        ! ls \"../data/deutsche-boerse-xetra-pds/{date}\"\n",
    "        # increase i\n",
    "        i += 1"
   ]
  },
  {
   "cell_type": "code",
   "execution_count": null,
   "metadata": {},
   "outputs": [],
   "source": [
    "# load the files from a date directory\n",
    "def load_csv_dir_multi(from_date, until_date, data_dir):\n",
    "    \"\"\"Loading several CSV Files\n",
    "    \n",
    "    Parameters\n",
    "    ----------\n",
    "    from_date : str\n",
    "        the date it should start\n",
    "    until_date: str\n",
    "        the date until you want the data\n",
    "    data_dir : str\n",
    "        the directory of the data\n",
    "    \"\"\"\n",
    "    \n",
    "    # create list for required dates\n",
    "    dates = list(pd.date_range(from_date, until_date, freq=\"D\").strftime(\"%Y-%m-%d\"))\n",
    "    \n",
    "    merged_df = pd.DataFrame()\n",
    "    number_days = len (dates)\n",
    "    i = 0\n",
    "    while i < number_days:\n",
    "        date = dates[i]\n",
    "        data_dir_merge = data_dir % date\n",
    "        if len(os.listdir(data_dir_merge) ) != 0: # check, if folder is not empty (empty folders -> weekends etc.) are not concatenated\n",
    "            merged_df = pd.concat([merged_df, pd.concat(map(pd.read_csv, glob.glob(os.path.join(data_dir_merge, \"*.csv\"))))])\n",
    "            print(\"Loading and merging from {}\".format(data_dir_merge))\n",
    "        i += 1\n",
    "    return merged_df"
   ]
  },
  {
   "cell_type": "code",
   "execution_count": null,
   "metadata": {
    "tags": [
     "outputPrepend"
    ]
   },
   "outputs": [],
   "source": [
    "# specify dates\n",
    "from_date = \"2017-07-01\"\n",
    "until_date = \"2021-01-31\"\n",
    "download_multi_dates(from_date, until_date)"
   ]
  },
  {
   "cell_type": "code",
   "execution_count": null,
   "metadata": {},
   "outputs": [],
   "source": [
    "# change directory to your local folder\n",
    "data_dir = \"../data/deutsche-boerse-xetra-pds/%s/\"\n",
    "print(\"Loading from {}\".format(data_dir))\n",
    "merged_df = load_csv_dir_multi(from_date, until_date, data_dir)"
   ]
  },
  {
   "cell_type": "code",
   "execution_count": null,
   "metadata": {},
   "outputs": [],
   "source": [
    "# save full merged data\n",
    "merged_df.to_csv(\"../data/07_17_to_01_21_full.csv\")"
   ]
  }
 ],
 "metadata": {
  "kernelspec": {
   "display_name": "Python [conda env:vbd_env] *",
   "language": "python",
   "name": "conda-env-vbd_env-py"
  },
  "language_info": {
   "codemirror_mode": {
    "name": "ipython",
    "version": 3
   },
   "file_extension": ".py",
   "mimetype": "text/x-python",
   "name": "python",
   "nbconvert_exporter": "python",
   "pygments_lexer": "ipython3",
   "version": "3.7.9"
  }
 },
 "nbformat": 4,
 "nbformat_minor": 4
}