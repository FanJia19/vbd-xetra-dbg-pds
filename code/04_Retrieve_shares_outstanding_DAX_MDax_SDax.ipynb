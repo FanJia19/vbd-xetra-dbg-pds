{
 "cells": [
  {
   "cell_type": "code",
   "execution_count": null,
   "metadata": {},
   "outputs": [],
   "source": [
    "# Introduce imports which we need\n",
    "import pandas as pd\n",
    "import numpy as np\n",
    "from yahoofinancials import YahooFinancials"
   ]
  },
  {
   "cell_type": "markdown",
   "metadata": {},
   "source": [
    "# Retrieve Shares Outstanding for Companies in Dax, MDax, SDax, TecDax"
   ]
  },
  {
   "cell_type": "code",
   "execution_count": null,
   "metadata": {},
   "outputs": [],
   "source": [
    "# Read DataFrame\n",
    "df_dax_all = pd.read_excel('.../data/German_Indices.xlsx')\n",
    "# Create new column to store info about shares outstanding\n",
    "df_dax_all['Shares_Outstanding'] = np.zeros(len(df_dax_all))\n",
    "\n",
    "# Retrieve info about shares outstanding\n",
    "ticker_symbols = df_dax_all['Mnemonic']\n",
    "dict_shares_outs = {}\n",
    "for i in list(range(0, len(ticker_symbols))):\n",
    "    ticker = ticker_symbols[i]+str('.F')\n",
    "    yahoo_financials = YahooFinancials(ticker)\n",
    "    shares_outstanding = yahoo_financials.get_num_shares_outstanding()\n",
    "    dict_shares_outs[ticker_symbols[i]] = shares_outstanding\n",
    "\n",
    "# Create list out of shares_outstanding to insert it into the dataframe\n",
    "list_shares_outs = list(dict_shares_outs.values())\n",
    "\n",
    "# Insert Shares Outstanding into DataFrame\n",
    "df_dax_all['Shares_Outstanding'] = list_shares_outs"
   ]
  },
  {
   "cell_type": "code",
   "execution_count": null,
   "metadata": {},
   "outputs": [],
   "source": [
    "# Save file\n",
    "df_dax_all.to_excel('.../data/Shares_Outstanding.xlsx')"
   ]
  }
 ],
 "metadata": {
  "kernelspec": {
   "display_name": "Python 3",
   "language": "python",
   "name": "python3"
  },
  "language_info": {
   "codemirror_mode": {
    "name": "ipython",
    "version": 3
   },
   "file_extension": ".py",
   "mimetype": "text/x-python",
   "name": "python",
   "nbconvert_exporter": "python",
   "pygments_lexer": "ipython3",
   "version": "3.8.3"
  }
 },
 "nbformat": 4,
 "nbformat_minor": 4
}
